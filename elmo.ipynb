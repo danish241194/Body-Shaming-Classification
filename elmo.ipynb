{
 "cells": [
  {
   "cell_type": "code",
   "execution_count": 1,
   "metadata": {
    "colab": {
     "base_uri": "https://localhost:8080/",
     "height": 124
    },
    "colab_type": "code",
    "id": "1hDTjrMc70tD",
    "outputId": "0087e3ce-3e69-4ff9-ce2e-01e118e93aec"
   },
   "outputs": [
    {
     "name": "stdout",
     "output_type": "stream",
     "text": [
      "Go to this URL in a browser: https://accounts.google.com/o/oauth2/auth?client_id=947318989803-6bn6qk8qdgf4n4g3pfee6491hc0brc4i.apps.googleusercontent.com&redirect_uri=urn%3Aietf%3Awg%3Aoauth%3A2.0%3Aoob&scope=email%20https%3A%2F%2Fwww.googleapis.com%2Fauth%2Fdocs.test%20https%3A%2F%2Fwww.googleapis.com%2Fauth%2Fdrive%20https%3A%2F%2Fwww.googleapis.com%2Fauth%2Fdrive.photos.readonly%20https%3A%2F%2Fwww.googleapis.com%2Fauth%2Fpeopleapi.readonly&response_type=code\n",
      "\n",
      "Enter your authorization code:\n",
      "··········\n",
      "Mounted at /content/gdrive\n"
     ]
    }
   ],
   "source": [
    "from google.colab import drive\n",
    "drive.mount('/content/gdrive')"
   ]
  },
  {
   "cell_type": "code",
   "execution_count": 0,
   "metadata": {
    "colab": {},
    "colab_type": "code",
    "id": "Fr3nj4de8IU_"
   },
   "outputs": [],
   "source": [
    "import tensorflow_hub as hub\n",
    "import tensorflow as tf\n",
    "import pandas as pd\n",
    "from sklearn.linear_model import LogisticRegression\n",
    "from sklearn.ensemble import RandomForestClassifier\n",
    "from sklearn.metrics import accuracy_score, f1_score, precision_score, recall_score\n",
    "from sklearn import model_selection, svm\n",
    "import numpy as np\n",
    "from sklearn.model_selection import train_test_split"
   ]
  },
  {
   "cell_type": "code",
   "execution_count": 0,
   "metadata": {
    "colab": {},
    "colab_type": "code",
    "id": "NlFMTAGT9S55"
   },
   "outputs": [],
   "source": [
    "df = pd.read_csv(\"/content/gdrive/My Drive/dataset/data.txt\", delimiter=',',encoding = \"utf-8\")"
   ]
  },
  {
   "cell_type": "code",
   "execution_count": 0,
   "metadata": {
    "colab": {},
    "colab_type": "code",
    "id": "vw23fUkZ8AJY"
   },
   "outputs": [],
   "source": [
    "elmo = hub.Module(\"https://tfhub.dev/google/elmo/2\", trainable=True)"
   ]
  },
  {
   "cell_type": "code",
   "execution_count": 0,
   "metadata": {
    "colab": {},
    "colab_type": "code",
    "id": "NAsP8MAS8dDr"
   },
   "outputs": [],
   "source": [
    "def elmo_vectors(x):\n",
    "    embeddings = elmo(x.tolist(), signature=\"default\", as_dict=True)[\"elmo\"]\n",
    "\n",
    "    with tf.Session() as sess:\n",
    "        sess.run(tf.global_variables_initializer())\n",
    "        sess.run(tf.tables_initializer())\n",
    "        # return average of ELMo features\n",
    "        return sess.run(tf.reduce_mean(embeddings,1))"
   ]
  },
  {
   "cell_type": "code",
   "execution_count": null,
   "metadata": {},
   "outputs": [],
   "source": [
    "list_train = [df[i:i+100] for i in range(0,df.shape[0],100)]\n",
    "elmo_train = [elmo_vectors(x['text']) for x in list_train]"
   ]
  },
  {
   "cell_type": "code",
   "execution_count": 0,
   "metadata": {
    "colab": {},
    "colab_type": "code",
    "id": "iu40xpVuAjH2"
   },
   "outputs": [],
   "source": [
    "elmo_train_new = np.concatenate(elmo_train, axis = 0)"
   ]
  },
  {
   "cell_type": "code",
   "execution_count": 0,
   "metadata": {
    "colab": {},
    "colab_type": "code",
    "id": "MI0xQA6dJlot"
   },
   "outputs": [],
   "source": [
    "\n",
    "xtrain, xvalid, ytrain, yvalid = train_test_split(elmo_train_new, \n",
    "                                                  df['label'],  \n",
    "                                                  random_state=42, \n",
    "                                                  test_size=0.2)"
   ]
  },
  {
   "cell_type": "markdown",
   "metadata": {},
   "source": [
    "# SVM"
   ]
  },
  {
   "cell_type": "code",
   "execution_count": 0,
   "metadata": {
    "colab": {},
    "colab_type": "code",
    "id": "2xEhuK12Aq1I"
   },
   "outputs": [],
   "source": [
    "SVM = svm.SVC(C=1.0, kernel='linear', degree=3, gamma='auto')"
   ]
  },
  {
   "cell_type": "code",
   "execution_count": 37,
   "metadata": {
    "colab": {
     "base_uri": "https://localhost:8080/",
     "height": 86
    },
    "colab_type": "code",
    "id": "v8biyOTMW1AV",
    "outputId": "e740412a-7b58-4df3-a199-db3d416e81b9"
   },
   "outputs": [
    {
     "data": {
      "text/plain": [
       "SVC(C=1.0, cache_size=200, class_weight=None, coef0=0.0,\n",
       "    decision_function_shape='ovr', degree=3, gamma='auto', kernel='linear',\n",
       "    max_iter=-1, probability=False, random_state=None, shrinking=True,\n",
       "    tol=0.001, verbose=False)"
      ]
     },
     "execution_count": 37,
     "metadata": {
      "tags": []
     },
     "output_type": "execute_result"
    }
   ],
   "source": [
    "SVM.fit(xtrain,ytrain)"
   ]
  },
  {
   "cell_type": "code",
   "execution_count": 38,
   "metadata": {
    "colab": {
     "base_uri": "https://localhost:8080/",
     "height": 86
    },
    "colab_type": "code",
    "id": "SMGxCNvJXEX9",
    "outputId": "48c2a5c4-3ff1-4486-c595-ef9b8d45edaf"
   },
   "outputs": [
    {
     "name": "stdout",
     "output_type": "stream",
     "text": [
      "Accuracy ->  92.08333333333333\n",
      "F1 Score ->  0.8666315697113275\n",
      "Precision ->  0.9140841813135985\n",
      "Recall ->  0.834685693165839\n"
     ]
    }
   ],
   "source": [
    "predictions_SVM = SVM.predict(xvalid)\n",
    "print(\"Accuracy -> \",accuracy_score( yvalid,predictions_SVM)*100)\n",
    "print(\"F1 Score -> \",f1_score(yvalid,predictions_SVM, average=\"macro\"))\n",
    "print(\"Precision -> \",precision_score(yvalid, predictions_SVM, average=\"macro\"))\n",
    "print(\"Recall -> \",recall_score(yvalid,predictions_SVM, average=\"macro\"))"
   ]
  },
  {
   "cell_type": "markdown",
   "metadata": {},
   "source": [
    "# Random Forest"
   ]
  },
  {
   "cell_type": "code",
   "execution_count": 43,
   "metadata": {
    "colab": {
     "base_uri": "https://localhost:8080/",
     "height": 86
    },
    "colab_type": "code",
    "id": "90LsUL5uXZw0",
    "outputId": "9f5531f3-c76f-4428-b570-8d5c91acbb8a"
   },
   "outputs": [
    {
     "name": "stdout",
     "output_type": "stream",
     "text": [
      "Accuracy ->  85.83333333333333\n",
      "F1 Score ->  0.7196508278546141\n",
      "Precision ->  0.8560280527081459\n",
      "Recall ->  0.6798645657650462\n"
     ]
    }
   ],
   "source": [
    "RFC = RandomForestClassifier(n_estimators=200, max_depth=3, random_state=0)\n",
    "RFC.fit(xtrain,ytrain)\n",
    "predictions_RFC = RFC.predict(xvalid)\n",
    "print(\"Accuracy -> \",accuracy_score( yvalid,predictions_RFC)*100)\n",
    "print(\"F1 Score -> \",f1_score(yvalid,predictions_RFC, average=\"macro\"))\n",
    "print(\"Precision -> \",precision_score(yvalid, predictions_RFC, average=\"macro\"))\n",
    "print(\"Recall -> \",recall_score(yvalid,predictions_RFC, average=\"macro\"))"
   ]
  },
  {
   "cell_type": "markdown",
   "metadata": {},
   "source": [
    "# Logistic Regression"
   ]
  },
  {
   "cell_type": "code",
   "execution_count": 45,
   "metadata": {
    "colab": {
     "base_uri": "https://localhost:8080/",
     "height": 141
    },
    "colab_type": "code",
    "id": "iY6ZEmFUXzWT",
    "outputId": "2a551ecc-f7bb-43f3-8b05-cffbede20f19"
   },
   "outputs": [
    {
     "name": "stderr",
     "output_type": "stream",
     "text": [
      "/usr/local/lib/python3.6/dist-packages/sklearn/linear_model/logistic.py:432: FutureWarning: Default solver will be changed to 'lbfgs' in 0.22. Specify a solver to silence this warning.\n",
      "  FutureWarning)\n"
     ]
    },
    {
     "name": "stdout",
     "output_type": "stream",
     "text": [
      "Accuracy ->  89.33333333333333\n",
      "F1 Score ->  0.8087639878684656\n",
      "Precision ->  0.8893039049235993\n",
      "Recall ->  0.7678840737326407\n"
     ]
    }
   ],
   "source": [
    "LR = LogisticRegression(random_state=0)\n",
    "LR.fit(xtrain,ytrain)\n",
    "predictions_LR = LR.predict(xvalid)\n",
    "print(\"Accuracy -> \",accuracy_score( yvalid,predictions_LR)*100)\n",
    "print(\"F1 Score -> \",f1_score(yvalid,predictions_LR, average=\"macro\"))\n",
    "print(\"Precision -> \",precision_score(yvalid, predictions_LR, average=\"macro\"))\n",
    "print(\"Recall -> \",recall_score(yvalid,predictions_LR, average=\"macro\"))"
   ]
  },
  {
   "cell_type": "code",
   "execution_count": 0,
   "metadata": {
    "colab": {},
    "colab_type": "code",
    "id": "gr1HFdcGY9s5"
   },
   "outputs": [],
   "source": []
  }
 ],
 "metadata": {
  "colab": {
   "name": "elmo.ipynb",
   "provenance": []
  },
  "kernelspec": {
   "display_name": "Python 3",
   "language": "python",
   "name": "python3"
  },
  "language_info": {
   "codemirror_mode": {
    "name": "ipython",
    "version": 3
   },
   "file_extension": ".py",
   "mimetype": "text/x-python",
   "name": "python",
   "nbconvert_exporter": "python",
   "pygments_lexer": "ipython3",
   "version": "3.7.3"
  }
 },
 "nbformat": 4,
 "nbformat_minor": 1
}
